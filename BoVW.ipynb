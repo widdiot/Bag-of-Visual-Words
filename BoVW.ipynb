{
 "cells": [
  {
   "cell_type": "code",
   "execution_count": 155,
   "metadata": {},
   "outputs": [],
   "source": [
    "import numpy as np\n",
    "import matplotlib.pyplot as plt\n",
    "import cv2\n",
    "from imutils import paths\n",
    "\n",
    "#loading training data\n",
    "\n",
    "data = []\n",
    "labels = []\n",
    "labelmod = []\n",
    "for path in paths.list_images('/home/vishay/Downloads/AIP/Assignment 1/data/train'):\n",
    "    a = cv2.imread(path)\n",
    "    data.append(a)\n",
    "    labels.append((path.split('/')[-2]).split('_')[0])\n",
    "\n",
    "sift = cv2.xfeatures2d.SIFT_create()\n",
    "siftdes = []\n",
    "for image in data:\n",
    "    _, des = sift.detectAndCompute(cv2.cvtColor(image,cv2.COLOR_BGR2GRAY),None)\n",
    "    siftdes.append(des)\n",
    "sifts = np.vstack(x for x in siftdes)    \n",
    "\n",
    "#kmeans\n",
    "\n",
    "from sklearn.cluster import KMeans\n",
    "\n",
    "kmeans = KMeans(init = 'k-means++', n_clusters=5, random_state=0).fit(sifts)\n",
    "\n"
   ]
  },
  {
   "cell_type": "code",
   "execution_count": 165,
   "metadata": {},
   "outputs": [
    {
     "name": "stdout",
     "output_type": "stream",
     "text": [
      "<generator object list_files at 0x7f6585337a40>\n"
     ]
    }
   ],
   "source": [
    "len(paths.list_images('/home/vishay/Downloads/AIP/Assignment 1/data/train'))"
   ]
  },
  {
   "cell_type": "code",
   "execution_count": null,
   "metadata": {},
   "outputs": [],
   "source": [
    "# In[]\n",
    "hist=[]\n",
    "for imkps in siftdes:\n",
    "#    hist.append(np.array(map(float, np.histogram(kmeans.predict(imkps),bins = 5)[0]))/float(np.shape(imkps)[0]))\n",
    "    hist.append((1/(np.sum(np.histogram(kmeans.predict(imkps),5)[0])))*np.histogram(kmeans.predict(imkps),5)[0])\n",
    "hist = np.array(hist)\n",
    "    "
   ]
  },
  {
   "cell_type": "code",
   "execution_count": 153,
   "metadata": {},
   "outputs": [
    {
     "name": "stdout",
     "output_type": "stream",
     "text": [
      "accuracy = 56.666666666666664 %\n",
      "accuracy = 46.666666666666664 %\n"
     ]
    }
   ],
   "source": [
    "\n",
    "#load test data\n",
    "\n",
    "datatest = []\n",
    "labelstest = []\n",
    "labelmod = []\n",
    "for path in paths.list_images('/home/vishay/Downloads/AIP/Assignment 1/data/test'):\n",
    "    a = cv2.imread(path)\n",
    "    datatest.append(a)\n",
    "    labelstest.append((path.split('/')[-2]).split('_')[0])\n",
    "\n",
    "sift = cv2.xfeatures2d.SIFT_create()\n",
    "siftdestest = []\n",
    "for image in datatest:\n",
    "    _, des = sift.detectAndCompute(cv2.cvtColor(image,cv2.COLOR_BGR2GRAY),None)\n",
    "    siftdestest.append(des)\n",
    "\n",
    "histtest=[]\n",
    "for imkps in siftdestest:\n",
    "#    hist.append(np.array(map(float, np.histogram(kmeans.predict(imkps),bins = 5)[0]))/float(np.shape(imkps)[0]))\n",
    "    histtest.append((1/(np.sum(np.histogram(kmeans.predict(imkps),5)[0])))*np.histogram(kmeans.predict(imkps),5)[0])\n",
    "histtest = np.array(histtest)\n",
    "    \n",
    "\n",
    "\n",
    "#pred\n",
    "\n",
    "np.shape(labels)\n",
    "\n",
    "#NN Classifier\n",
    "\n",
    "from sklearn.neighbors import KNeighborsClassifier\n",
    "\n",
    "neigh = KNeighborsClassifier(n_neighbors=7)\n",
    "neigh.fit(hist, labels) \n",
    "\n",
    "pred = neigh.predict(histtest)\n",
    "\n",
    "acc = (labelstest == pred).mean()\n",
    "print(\"accuracy = \"+str(acc*100)+\" %\")\n",
    "\n",
    "from sklearn.svm import SVC\n",
    "clf = SVC(gamma='auto',kernel = 'linear')\n",
    "clf.fit(hist, labels) \n",
    "\n",
    "pre1 = clf.predict(histtest)\n",
    "\n",
    "acc = (labelstest == pre1).mean()\n",
    "print(\"accuracy = \"+str(acc*100)+\" %\")\n",
    "\n"
   ]
  },
  {
   "cell_type": "code",
   "execution_count": null,
   "metadata": {},
   "outputs": [],
   "source": [
    "pre1"
   ]
  }
 ],
 "metadata": {
  "kernelspec": {
   "display_name": "Python 3",
   "language": "python",
   "name": "python3"
  },
  "language_info": {
   "codemirror_mode": {
    "name": "ipython",
    "version": 3
   },
   "file_extension": ".py",
   "mimetype": "text/x-python",
   "name": "python",
   "nbconvert_exporter": "python",
   "pygments_lexer": "ipython3",
   "version": "3.6.4"
  }
 },
 "nbformat": 4,
 "nbformat_minor": 2
}
